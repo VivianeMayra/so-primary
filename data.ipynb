{
 "cells": [
  {
   "cell_type": "code",
   "execution_count": null,
   "metadata": {},
   "outputs": [],
   "source": [
    "# Instalação das dependências (se ausentes)\n",
    "\n",
    "%pip install pandas\n",
    "%pip install matplotlib"
   ]
  },
  {
   "cell_type": "code",
   "execution_count": null,
   "metadata": {},
   "outputs": [],
   "source": [
    "# Definindo alguns processos e seus Burst Times\n",
    "\n",
    "from process import Process\n",
    "\n",
    "process_list = [\n",
    "    Process(1, 8),\n",
    "    Process(2, 2),\n",
    "    Process(3, 7),\n",
    "    Process(4, 3),\n",
    "    Process(5, 5)\n",
    "]\n"
   ]
  },
  {
   "cell_type": "code",
   "execution_count": null,
   "metadata": {},
   "outputs": [],
   "source": [
    "# Acionando o escalonador e montando o dataset com os valores gerados\n",
    "\n",
    "import pandas as pd\n",
    "from scheduler import *\n",
    "\n",
    "scheduler(process_list)\n",
    "\n",
    "data = {\n",
    "    \"Process\": list(map(str, cpu_scheduling)),\n",
    "    \"Start\": scheduling_starts,\n",
    "    \"End\": scheduling_ends,\n",
    "}\n",
    "\n",
    "df = pd.DataFrame(data)\n",
    "\n",
    "df[\"Quanta\"] = df[\"End\"] - df[\"Start\"]\n",
    "df[\"Color\"] = colors\n",
    "\n",
    "df\n"
   ]
  },
  {
   "cell_type": "code",
   "execution_count": null,
   "metadata": {},
   "outputs": [],
   "source": [
    "# Cálculo do uso efetivo da CPU\n",
    "\n",
    "def cpu_utilization_ratio():\n",
    "    total_time = scheduling_ends[-1]\n",
    "    total_bt = 0\n",
    "    for process in process_list:\n",
    "        total_bt += process.initial_burst_time\n",
    "    return total_bt/total_time"
   ]
  },
  {
   "cell_type": "code",
   "execution_count": null,
   "metadata": {},
   "outputs": [],
   "source": [
    "# Plot do Gráfico de Escalonamento em um Gantt Chart\n",
    "\n",
    "import matplotlib.pyplot as plt\n",
    "\n",
    "plt.style.use(\"fast\")\n",
    "\n",
    "# Figura \"Pai\"\n",
    "figure = plt.figure(figsize=(20,5))\n",
    "figure.suptitle(\"Título Geral\")\n",
    "\n",
    "# Figura \"Filha\" 1 \n",
    "figure.add_subplot(1, 2, 1)\n",
    "plt.title(\"Gantt Chart\")\n",
    "plt.xlabel(\"Tempo (Quanta)\")\n",
    "plt.ylabel(\"Processo\")\n",
    "plt.xticks(range(0, scheduling_ends[-1], 1))\n",
    "plt.barh(y=df[\"Process\"], left=df[\"Start\"], width=df[\"Quanta\"], color=df[\"Color\"])\n",
    "\n",
    "# Figura \"Filha\" 2\n",
    "\n",
    "effective_ratio = round(cpu_utilization_ratio()*100, 2)\n",
    "\n",
    "figure.add_subplot(1, 2, 2)\n",
    "labels = [\"% Teórica\", \"% Efetiva\"]\n",
    "vals = [100, effective_ratio]\n",
    "plt.bar(labels, vals, width=0.5)\n",
    "plt.title(\"% Uso da CPU\")\n",
    "\n",
    "for idx, val in enumerate(vals):\n",
    "    txt = f'{val} %'\n",
    "    x_coord = idx - 0.05\n",
    "    y_coord = val + 0.30\n",
    "    \n",
    "    plt.text(x=x_coord, y=y_coord, s=txt, fontsize=12)\n",
    "\n",
    "plt.show()\n"
   ]
  },
  {
   "cell_type": "code",
   "execution_count": null,
   "metadata": {},
   "outputs": [],
   "source": [
    "# Cálculo dos Tempos Médios\n",
    "\n",
    "n = len(process_list)\n",
    "\n",
    "def avg_waiting_time():\n",
    "    total_wt = 0\n",
    "    for process in process_list:\n",
    "        total_wt += process.waiting_time\n",
    "    return total_wt/n\n",
    "\n",
    "\n",
    "def avg_return_time():\n",
    "    total_rt = 0\n",
    "    for process in process_list:\n",
    "        total_rt += process.return_time\n",
    "    return total_rt/n"
   ]
  },
  {
   "cell_type": "code",
   "execution_count": null,
   "metadata": {},
   "outputs": [],
   "source": [
    "# Plot do Gráfico de Tempos Médios\n",
    "\n",
    "labels = [\"Espera\", \"Retorno\"]\n",
    "vals = [avg_waiting_time(), avg_return_time()]\n",
    "\n",
    "fig, ax = plt.subplots(figsize=(8,5))\n",
    "ax.bar(labels, vals, width=0.5)\n",
    "\n",
    "ax.set_title(\"Tempo Médio\")\n",
    "\n",
    "for idx, val in enumerate(vals):\n",
    "    txt = f'{val} qts'\n",
    "    x_coord = idx - 0.08\n",
    "    y_coord = val + 0.15\n",
    "    \n",
    "    ax.text(x=x_coord, y=y_coord, s=txt, fontsize=12)"
   ]
  }
 ],
 "metadata": {
  "kernelspec": {
   "display_name": "Python 3",
   "language": "python",
   "name": "python3"
  },
  "language_info": {
   "codemirror_mode": {
    "name": "ipython",
    "version": 3
   },
   "file_extension": ".py",
   "mimetype": "text/x-python",
   "name": "python",
   "nbconvert_exporter": "python",
   "pygments_lexer": "ipython3",
   "version": "3.8.10"
  },
  "orig_nbformat": 4
 },
 "nbformat": 4,
 "nbformat_minor": 2
}
