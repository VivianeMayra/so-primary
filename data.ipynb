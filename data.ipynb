{
 "cells": [
  {
   "cell_type": "code",
   "execution_count": null,
   "metadata": {},
   "outputs": [],
   "source": [
    "from process import Process\n",
    "\n",
    "p1 = Process(1, 8)\n",
    "p2 = Process(2, 2)\n",
    "p3 = Process(3, 7)\n",
    "p4 = Process(4, 3)\n",
    "p5 = Process(5, 5)\n",
    "\n",
    "process_list = [p1, p2, p3, p4, p5]"
   ]
  },
  {
   "cell_type": "code",
   "execution_count": null,
   "metadata": {},
   "outputs": [],
   "source": [
    "import pandas as pd\n",
    "from scheduler import *\n",
    "\n",
    "scheduler(process_list)\n",
    "\n",
    "data = {\n",
    "    \"Process\": cpu_scheduling_pname,\n",
    "    \"Start\": scheduling_starts,\n",
    "    \"End\": scheduling_ends,\n",
    "}\n",
    "\n",
    "df = pd.DataFrame(data)\n",
    "df[\"Quanta\"] = df[\"End\"] - df[\"Start\"]\n",
    "df[\"Color\"] = colors\n",
    "\n",
    "df"
   ]
  },
  {
   "cell_type": "code",
   "execution_count": null,
   "metadata": {},
   "outputs": [],
   "source": [
    "import matplotlib.pyplot as plt\n",
    "\n",
    "plt.style.use(\"ggplot\")\n",
    "\n",
    "fig = plt.figure(num=1)\n",
    "plt.xlabel(\"Quanta time\")\n",
    "plt.ylabel(\"Process\")\n",
    "plt.barh(y=df[\"Process\"], left=df[\"Start\"], width=df[\"Quanta\"], color=df[\"Color\"])\n",
    "plt.show()"
   ]
  }
 ],
 "metadata": {
  "kernelspec": {
   "display_name": "Python 3",
   "language": "python",
   "name": "python3"
  },
  "language_info": {
   "codemirror_mode": {
    "name": "ipython",
    "version": 3
   },
   "file_extension": ".py",
   "mimetype": "text/x-python",
   "name": "python",
   "nbconvert_exporter": "python",
   "pygments_lexer": "ipython3",
   "version": "3.8.10"
  },
  "orig_nbformat": 4
 },
 "nbformat": 4,
 "nbformat_minor": 2
}
